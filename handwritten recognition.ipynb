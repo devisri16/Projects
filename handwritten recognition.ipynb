{
 "cells": [
  {
   "cell_type": "code",
   "execution_count": 1,
   "id": "32a33a38",
   "metadata": {},
   "outputs": [],
   "source": [
    "import warnings\n",
    "warnings.simplefilter(\"ignore\")\n",
    "import cv2\n",
    "import numpy as np\n",
    "import matplotlib.pyplot as plt\n",
    "import tensorflow as tf\n",
    "from tensorflow.keras.models import Sequential\n",
    "from tensorflow.keras.layers import Conv2D, Flatten, Dropout, Dense, MaxPooling2D\n",
    "from tensorflow.keras.optimizers import SGD\n",
    "from keras.datasets import mnist\n",
    "from keras.utils import to_categorical\n",
    "\n",
    "\n",
    "%matplotlib inline"
   ]
  },
  {
   "cell_type": "code",
   "execution_count": 2,
   "id": "7bec7534",
   "metadata": {},
   "outputs": [
    {
     "data": {
      "text/plain": [
       "(60000, 28, 28)"
      ]
     },
     "execution_count": 2,
     "metadata": {},
     "output_type": "execute_result"
    }
   ],
   "source": [
    "(train_X,train_y),(test_X,test_y) = mnist.load_data()\n",
    "train_X.shape"
   ]
  },
  {
   "cell_type": "code",
   "execution_count": 3,
   "id": "b257d02e",
   "metadata": {},
   "outputs": [
    {
     "data": {
      "text/plain": [
       "<matplotlib.image.AxesImage at 0x2643ab98d00>"
      ]
     },
     "execution_count": 3,
     "metadata": {},
     "output_type": "execute_result"
    },
    {
     "data": {
      "image/png": "[encoded data removed]",
      "text/plain": [
       "<Figure size 640x480 with 1 Axes>"
      ]
     },
     "metadata": {},
     "output_type": "display_data"
    }
   ],
   "source": [
    "plt.imshow(train_X[1],cmap='gray')"
   ]
  },
  {
   "cell_type": "code",
   "execution_count": 4,
   "id": "a99616f1",
   "metadata": {},
   "outputs": [
    {
     "data": {
      "text/plain": [
       "array([5, 0, 4, ..., 5, 6, 8], dtype=uint8)"
      ]
     },
     "execution_count": 4,
     "metadata": {},
     "output_type": "execute_result"
    }
   ],
   "source": [
    "train_y"
   ]
  },
  {
   "cell_type": "code",
   "execution_count": 5,
   "id": "476650d0",
   "metadata": {},
   "outputs": [],
   "source": [
    "#normalize and reshaping our X data\n",
    "train_X = train_X.reshape(-1,28,28,1)\n",
    "test_X  = test_X.reshape(-1,28,28,1)\n",
    "\n",
    "train_X = train_X.astype('float32')\n",
    "test_X  = test_X.astype('float32')\n",
    "\n",
    "train_X = train_X/255\n",
    "test_X  = test_X/255\n",
    "\n",
    "#one hot encode our y data\n",
    "from keras.utils import np_utils \n",
    "train_y = np_utils.to_categorical(train_y)\n",
    "test_y  = np_utils.to_categorical(test_y)"
   ]
  },
  {
   "cell_type": "code",
   "execution_count": 6,
   "id": "94af14f5",
   "metadata": {},
   "outputs": [
    {
     "data": {
      "text/plain": [
       "array([1., 0., 0., 0., 0., 0., 0., 0., 0., 0.], dtype=float32)"
      ]
     },
     "execution_count": 6,
     "metadata": {},
     "output_type": "execute_result"
    }
   ],
   "source": [
    "train_y[1]"
   ]
  },
  {
   "cell_type": "code",
   "execution_count": 7,
   "id": "7a64e7b4",
   "metadata": {},
   "outputs": [
    {
     "name": "stdout",
     "output_type": "stream",
     "text": [
      "Model: \"sequential\"\n",
      "_________________________________________________________________\n",
      " Layer (type)                Output Shape              Param #   \n",
      "=================================================================\n",
      " conv2d (Conv2D)             (None, 28, 28, 32)        320       \n",
      "                                                                 \n",
      " max_pooling2d (MaxPooling2D  (None, 14, 14, 32)       0         \n",
      " )                                                               \n",
      "                                                                 \n",
      " conv2d_1 (Conv2D)           (None, 14, 14, 64)        18496     \n",
      "                                                                 \n",
      " max_pooling2d_1 (MaxPooling  (None, 7, 7, 64)         0         \n",
      " 2D)                                                             \n",
      "                                                                 \n",
      " dropout (Dropout)           (None, 7, 7, 64)          0         \n",
      "                                                                 \n",
      " flatten (Flatten)           (None, 3136)              0         \n",
      "                                                                 \n",
      " dense (Dense)               (None, 128)               401536    \n",
      "                                                                 \n",
      " dropout_1 (Dropout)         (None, 128)               0         \n",
      "                                                                 \n",
      " dense_1 (Dense)             (None, 10)                1290      \n",
      "                                                                 \n",
      "=================================================================\n",
      "Total params: 421,642\n",
      "Trainable params: 421,642\n",
      "Non-trainable params: 0\n",
      "_________________________________________________________________\n",
      "None\n"
     ]
    }
   ],
   "source": [
    "#creating our model\n",
    "input_shape=(28,28,1)\n",
    "\n",
    "from tensorflow.keras.models import Sequential\n",
    "from tensorflow.keras.layers import Conv2D,Flatten,Dropout,Dense,MaxPooling2D\n",
    "from tensorflow.keras.optimizers import SGD\n",
    "model = Sequential()\n",
    "\n",
    "model.add(Conv2D(32,kernel_size=(3,3),activation='relu',input_shape=input_shape,padding='SAME'))\n",
    "model.add(MaxPooling2D(pool_size=(2,2)))\n",
    "\n",
    "model.add(Conv2D(64,(3,3),activation='relu',padding='SAME'))\n",
    "model.add(MaxPooling2D(pool_size=(2,2)))\n",
    "model.add(Dropout(0.25))\n",
    "\n",
    "model.add(Flatten())\n",
    "model.add(Dense(128,activation='relu'))\n",
    "model.add(Dropout(0.5))\n",
    "model.add(Dense(10,activation='softmax'))\n",
    "\n",
    "model.compile(loss='categorical_crossentropy',\n",
    "              optimizer=SGD(0.01),\n",
    "              metrics=['accuracy'])\n",
    "\n",
    "print(model.summary())"
   ]
  },
  {
   "cell_type": "code",
   "execution_count": 8,
   "id": "e6d6a88d",
   "metadata": {},
   "outputs": [
    {
     "name": "stdout",
     "output_type": "stream",
     "text": [
      "Epoch 1/10\n",
      "1875/1875 [==============================] - 53s 28ms/step - loss: 0.7227 - accuracy: 0.7673 - val_loss: 0.1650 - val_accuracy: 0.9532\n",
      "Epoch 2/10\n",
      "1875/1875 [==============================] - 51s 27ms/step - loss: 0.2371 - accuracy: 0.9287 - val_loss: 0.1055 - val_accuracy: 0.9655\n",
      "Epoch 3/10\n",
      "1875/1875 [==============================] - 46s 25ms/step - loss: 0.1790 - accuracy: 0.9453 - val_loss: 0.0799 - val_accuracy: 0.9733\n",
      "Epoch 4/10\n",
      "1875/1875 [==============================] - 31s 16ms/step - loss: 0.1507 - accuracy: 0.9548 - val_loss: 0.0674 - val_accuracy: 0.9776\n",
      "Epoch 5/10\n",
      "1875/1875 [==============================] - 34s 18ms/step - loss: 0.1299 - accuracy: 0.9613 - val_loss: 0.0573 - val_accuracy: 0.9811\n",
      "Epoch 6/10\n",
      "1875/1875 [==============================] - 35s 19ms/step - loss: 0.1188 - accuracy: 0.9638 - val_loss: 0.0524 - val_accuracy: 0.9821\n",
      "Epoch 7/10\n",
      "1875/1875 [==============================] - 36s 19ms/step - loss: 0.1057 - accuracy: 0.9688 - val_loss: 0.0469 - val_accuracy: 0.9844\n",
      "Epoch 8/10\n",
      "1875/1875 [==============================] - 37s 20ms/step - loss: 0.0967 - accuracy: 0.9711 - val_loss: 0.0459 - val_accuracy: 0.9844\n",
      "Epoch 9/10\n",
      "1875/1875 [==============================] - 40s 21ms/step - loss: 0.0928 - accuracy: 0.9726 - val_loss: 0.0426 - val_accuracy: 0.9857\n",
      "Epoch 10/10\n",
      "1875/1875 [==============================] - 39s 21ms/step - loss: 0.0836 - accuracy: 0.9751 - val_loss: 0.0398 - val_accuracy: 0.9869\n",
      "Test loss --->  3.98%\n",
      "Test accuracy --->  98.69%\n"
     ]
    }
   ],
   "source": [
    "# training our data\n",
    "batch_size=32\n",
    "epochs=10\n",
    "\n",
    "plotting_data = model.fit(train_X,\n",
    "                          train_y,\n",
    "                          batch_size=batch_size,\n",
    "                          epochs=epochs,\n",
    "                          verbose=1,\n",
    "                          validation_data=(test_X,test_y))\n",
    "\n",
    "loss,accuracy = model.evaluate(test_X,test_y,verbose=0)\n",
    "\n",
    "print('Test loss ---> ',str(round(loss*100,2)) +str('%'))\n",
    "print('Test accuracy ---> ',str(round(accuracy*100,2)) +str('%'))"
   ]
  },
  {
   "cell_type": "code",
   "execution_count": 9,
   "id": "5a374bec",
   "metadata": {},
   "outputs": [
    {
     "data": {
      "text/plain": [
       "<matplotlib.legend.Legend at 0x2643b371fd0>"
      ]
     },
     "execution_count": 9,
     "metadata": {},
     "output_type": "execute_result"
    },
    {
     "data": {
      "image/png": "[encoded data removed]",
      "text/plain": [
       "<Figure size 640x480 with 1 Axes>"
      ]
     },
     "metadata": {},
     "output_type": "display_data"
    }
   ],
   "source": [
    "plotting_data_dict = plotting_data.history\n",
    "\n",
    "test_loss = plotting_data_dict['val_loss']\n",
    "training_loss = plotting_data_dict['loss']\n",
    "test_accuracy = plotting_data_dict['val_accuracy']\n",
    "training_accuracy = plotting_data_dict['accuracy']\n",
    "\n",
    "epochs = range(1,len(test_loss)+1)\n",
    "\n",
    "plt.plot(epochs,test_loss,marker='X',label='test_loss')\n",
    "plt.plot(epochs,training_loss,marker='X',label='training_loss')\n",
    "plt.legend()"
   ]
  },
  {
   "cell_type": "code",
   "execution_count": 10,
   "id": "d63039ff",
   "metadata": {},
   "outputs": [
    {
     "data": {
      "text/plain": [
       "<matplotlib.legend.Legend at 0x2643b45e5b0>"
      ]
     },
     "execution_count": 10,
     "metadata": {},
     "output_type": "execute_result"
    },
    {
     "data": {
      "image/png": "[encoded data removed]",
      "text/plain": [
       "<Figure size 640x480 with 1 Axes>"
      ]
     },
     "metadata": {},
     "output_type": "display_data"
    }
   ],
   "source": [
    "plt.plot(epochs,test_accuracy,marker='X',label='test_accuracy')\n",
    "plt.plot(epochs,training_accuracy,marker='X',label='training_accuracy')\n",
    "plt.legend()"
   ]
  },
  {
   "cell_type": "code",
   "execution_count": 11,
   "id": "6a6d50c7",
   "metadata": {},
   "outputs": [
    {
     "name": "stdout",
     "output_type": "stream",
     "text": [
      "Model Saved !!!\n"
     ]
    }
   ],
   "source": [
    "model.save('MNIST_10_epochs.h5')\n",
    "print('Model Saved !!!')"
   ]
  },
  {
   "cell_type": "code",
   "execution_count": 12,
   "id": "26dbfb48",
   "metadata": {},
   "outputs": [],
   "source": [
    "classifier = tf.keras.models.load_model('MNIST_10_epochs.h5')"
   ]
  },
  {
   "cell_type": "code",
   "execution_count": null,
   "id": "23353069",
   "metadata": {},
   "outputs": [],
   "source": [
    "drawing = False\n",
    "cv2.namedWindow('win')\n",
    "black_image = np.zeros((256, 256, 3), np.uint8)\n",
    "ix, iy = -1, -1\n",
    "\n",
    "def draw_circles(event, x, y, flags, param):\n",
    "    global ix, iy, drawing\n",
    "    if event == cv2.EVENT_LBUTTONDOWN:\n",
    "        drawing = True\n",
    "        ix, iy = x, y\n",
    "    elif event == cv2.EVENT_MOUSEMOVE:\n",
    "        if drawing == True:\n",
    "            cv2.circle(black_image, (x, y), 5, (255, 255, 255), -1)\n",
    "    elif event == cv2.EVENT_LBUTTONUP:\n",
    "        drawing = False\n",
    "\n",
    "cv2.setMouseCallback('win', draw_circles)\n",
    "\n",
    "while True:\n",
    "    cv2.imshow('win', black_image)\n",
    "    key = cv2.waitKey(1)\n",
    "    \n",
    "    if key == 27:  # ESC key to exit\n",
    "        break\n",
    "    elif key == 13:  # Enter key to recognize the drawn digit\n",
    "        input_img = cv2.cvtColor(black_image, cv2.COLOR_BGR2GRAY)\n",
    "        input_img = cv2.resize(input_img, (28, 28))\n",
    "        input_img = np.expand_dims(input_img, axis=0)\n",
    "        input_img = np.expand_dims(input_img, axis=-1)\n",
    "        input_img = input_img.astype('float32')\n",
    "        input_img /= 255.0\n",
    "\n",
    "        res = classifier.predict(input_img)[0]\n",
    "        cv2.putText(black_image, text=str(res), org=(205, 30), fontFace=cv2.FONT_HERSHEY_SIMPLEX,\n",
    "                    fontScale=1, color=(255, 255, 255), thickness=2)\n",
    "    elif key == ord('c'):  # 'c' key to clear the drawing\n",
    "        black_image = np.zeros((256, 256, 3), np.uint8)\n",
    "        ix, iy = -1, -1\n",
    "\n",
    "cv2.destroyAllWindows()\n",
    "\n",
    "\n",
    "\n"
   ]
  },
  {
   "cell_type": "code",
   "execution_count": null,
   "id": "239671c3",
   "metadata": {},
   "outputs": [],
   "source": []
  }
 ],
 "metadata": {
  "kernelspec": {
   "display_name": "Python 3 (ipykernel)",
   "language": "python",
   "name": "python3"
  },
  "language_info": {
   "codemirror_mode": {
    "name": "ipython",
    "version": 3
   },
   "file_extension": ".py",
   "mimetype": "text/x-python",
   "name": "python",
   "nbconvert_exporter": "python",
   "pygments_lexer": "ipython3",
   "version": "3.9.16"
  }
 },
 "nbformat": 4,
 "nbformat_minor": 5
}
